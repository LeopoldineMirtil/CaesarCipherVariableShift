{
 "cells": [
  {
   "cell_type": "markdown",
   "metadata": {},
   "source": [
    "# Caesar Cipher with Variable Shift\n",
    "---"
   ]
  },
  {
   "cell_type": "code",
   "execution_count": null,
   "metadata": {},
   "outputs": [],
   "source": [
    "alphabet = \"abcdefghijklmnopqrstuvwxyz\"\n",
    "\n",
    "#limit input for shift (must be btw 0 - 25)--#26 letters in alphabet\n",
    "shift = 0\n",
    "while True:\n",
    "    shift = input(\"Enter the number of places to shift: \")\n",
    "    if shift.isdecimal() and 0 <= int(shift) <= 25:\n",
    "        break\n",
    "    print(\"You must enter a number between 0 and 25!\")\n",
    "\n",
    "#input sentence in lowercase\n",
    "sentence = str(input(\"Enter a sentence: \")).lower()\n",
    "\n",
    "#print out inputted sentence\n",
    "print(\"The sentence is:\", sentence) \n",
    "\n",
    "#initialize encrypt\n",
    "encryp = \"\" \n",
    "\n",
    "#shifts and encrypts letters in sentence\n",
    "for char in sentence: \n",
    "    if char in alphabet:\n",
    "        char_index = alphabet.find(char)\n",
    "        encryp_index = (char_index + int(shift)) % 26 \n",
    "        encryp_char = alphabet[encryp_index]\n",
    "        encryp += encryp_char\n",
    "    else:\n",
    "        encryp += char\n",
    "\n",
    "#prints encrypted sentence\n",
    "print(\"Encrypted sentence is:\", encryp) "
   ]
  }
 ],
 "metadata": {
  "kernelspec": {
   "display_name": "Python 3",
   "language": "python",
   "name": "python3"
  },
  "language_info": {
   "codemirror_mode": {
    "name": "ipython",
    "version": 3
   },
   "file_extension": ".py",
   "mimetype": "text/x-python",
   "name": "python",
   "nbconvert_exporter": "python",
   "pygments_lexer": "ipython3",
   "version": "3.12.1"
  }
 },
 "nbformat": 4,
 "nbformat_minor": 2
}
